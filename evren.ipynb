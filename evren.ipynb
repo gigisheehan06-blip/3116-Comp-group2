{
 "cells": [
  {
   "cell_type": "markdown",
   "id": "3f7f6e8c",
   "metadata": {},
   "source": [
    "Goals:\n",
    "- What makes a globular cluster accreted?\n",
    "- What do globular clusters tell us about the formation of the Milky Way?\n",
    "- How do we know if they are formed within the Milky Way?\n",
    "- What other possible formation scenarios could their be and how do we identify them?\n",
    "\n",
    "Current Goal:\n",
    "- Defining which globular clusters from our data sets are accreted\n",
    "\n",
    "Notes:\n",
    "- Have access to Fe/H value and estimated age of some galaxy candidates\n",
    "- We can hopefully plot these values against each other and use \"In-situ vs. accretted Milky Way...\" paper to compare results with and determine which ones are accretted"
   ]
  },
  {
   "cell_type": "code",
   "execution_count": 2,
   "id": "1fd951ba",
   "metadata": {},
   "outputs": [],
   "source": [
    "import numpy as np\n",
    "import pandas as pd\n",
    "import scipy as sp\n",
    "import matplotlib.pyplot as plt\n",
    "import astropy.io as ap"
   ]
  },
  {
   "cell_type": "code",
   "execution_count": 6,
   "id": "5e01ab12",
   "metadata": {},
   "outputs": [
    {
     "name": "stdout",
     "output_type": "stream",
     "text": [
      "            ID    Name           RA          DEC       L      B  R_Sun  R_gc  \\\n",
      "0      NGC 104  47 Tuc  00:24:05.67  -72:04:52.6  305.89 -44.89    4.5   7.4   \n",
      "1      NGC 288     NaN  00:52:45.24  -26:34:57.4  152.30 -89.38    8.9  12.0   \n",
      "2      NGC 362     NaN  01:03:14.26  -70:50:55.6  301.53 -46.25    8.6   9.4   \n",
      "3    Whiting 1     NaN     02:02:57    -03:15:10  161.22 -60.76   30.1  34.5   \n",
      "4     NGC 1261     NaN  03:12:16.21  -55:12:58.4  270.54 -52.12   16.3  18.1   \n",
      "..         ...     ...          ...          ...     ...    ...    ...   ...   \n",
      "152   NGC 7089     M 2  21:33:27.02  -00:49:23.7   53.37 -35.77   11.5  10.4   \n",
      "153   NGC 7099    M 30  21:40:22.12  -23:10:47.5   27.18 -46.84    8.1   7.1   \n",
      "154     Pal 12     NaN  21:46:38.84  -21:15:09.4   30.51 -47.68   19.0  15.8   \n",
      "155     Pal 13     NaN  23:06:44.44  +12:46:19.2   87.10 -42.70   26.0  26.9   \n",
      "156   NGC 7492     NaN  23:08:26.63  -15:36:41.4   53.39 -63.48   26.3  25.3   \n",
      "\n",
      "        X     Y     Z  \n",
      "0     1.9  -2.6  -3.1  \n",
      "1    -0.1   0.0  -8.9  \n",
      "2     3.1  -5.1  -6.2  \n",
      "3   -13.9   4.7 -26.3  \n",
      "4     0.1 -10.0 -12.9  \n",
      "..    ...   ...   ...  \n",
      "152   5.6   7.5  -6.7  \n",
      "153   4.9   2.5  -5.9  \n",
      "154  11.0   6.5 -14.1  \n",
      "155   1.0  19.1 -17.6  \n",
      "156   7.0   9.4 -23.5  \n",
      "\n",
      "[157 rows x 11 columns]\n",
      "            ID [Fe/H]  wt  E(B-V)   V_HB  (m-M)V    V_t  M_V,t   U-B   B-V  \\\n",
      "0    NGC 104    -0.72  10    0.04  14.06   13.37   3.95  -9.42  0.37  0.88   \n",
      "1    NGC 288    -1.32   3    0.03  15.44   14.84   8.09  -6.75  0.08  0.65   \n",
      "2    NGC 362    -1.26   5    0.05  15.44   14.83    6.4  -8.43  0.16  0.77   \n",
      "3    Whiting 1   -0.7   1    0.03  18.18   17.49  15.03  -2.46               \n",
      "4    NGC 1261   -1.27   3    0.01  16.70   16.09   8.29   -7.8  0.13  0.72   \n",
      "..         ...    ...  ..     ...    ...     ...    ...    ...   ...   ...   \n",
      "152  NGC 7089   -1.65   5    0.06  16.05   15.50   6.47  -9.03  0.09  0.66   \n",
      "153  NGC 7099   -2.27   4    0.03  15.10   14.64   7.19  -7.45  0.03   0.6   \n",
      "154  Pal 12     -0.85   6    0.02  17.13   16.46  11.99  -4.47  0.34  1.07   \n",
      "155  Pal 13     -1.88   2    0.05  17.75   17.23  13.47  -3.76  0.11  0.76   \n",
      "156  NGC 7492   -1.78   5    0.00  17.63   17.10  11.29  -5.81  0.23  0.42   \n",
      "\n",
      "      V-R   V-I   spt ellip  \n",
      "0    0.53  1.14  G4    0.09  \n",
      "1    0.45  0.94              \n",
      "2    0.49  1.01  F9    0.01  \n",
      "3                            \n",
      "4    0.45  0.93  F7    0.07  \n",
      "..    ...   ...   ...   ...  \n",
      "152  0.46  0.92  F4    0.11  \n",
      "153  0.41  0.86  F3    0.01  \n",
      "154                          \n",
      "155                          \n",
      "156                    0.24  \n",
      "\n",
      "[157 rows x 14 columns]\n"
     ]
    }
   ],
   "source": [
    "Harris_i = pd.read_csv('Data_Folder/HarrisPartI.csv')\n",
    "print(Harris_i)\n",
    "\n",
    "Harris_ii = pd.read_csv('Data_Folder/HarrisPartII.csv')\n",
    "print(Harris_ii)"
   ]
  },
  {
   "cell_type": "code",
   "execution_count": 4,
   "id": "48e74898",
   "metadata": {},
   "outputs": [
    {
     "name": "stdout",
     "output_type": "stream",
     "text": [
      "            ID    v_r  v_r_e  v_LSR  sig_v  sig_v_e     c   r_c   r_h   mu_V  \\\n",
      "0      NGC 104  -18.0    0.1  -26.7   11.0      0.3  2.07  0.36  3.17  14.38   \n",
      "1      NGC 288  -45.4    0.2  -51.9    2.9      0.3  0.99  1.35  2.23  20.05   \n",
      "2      NGC 362  223.5    0.5  214.0    6.4      0.3  1.76  0.18  0.82  14.80   \n",
      "3    Whiting 1 -130.6    1.8 -138.1    NaN      NaN  0.55  0.25  0.22    NaN   \n",
      "4     NGC 1261   68.2    4.6   54.9    NaN      NaN  1.16  0.35  0.68  17.73   \n",
      "..         ...    ...    ...    ...    ...      ...   ...   ...   ...    ...   \n",
      "152   NGC 7089   -5.3    2.0    3.8    8.2      0.6  1.59  0.32  1.06  15.78   \n",
      "153   NGC 7099 -184.2    0.2 -179.6    5.5      0.4  2.50  0.06  1.03  15.35   \n",
      "154     Pal 12   27.8    1.5   32.5    NaN      NaN  2.98  0.02  1.72  19.21   \n",
      "155     Pal 13   25.2    0.3   30.9    0.9      0.3  0.66  0.48  0.36  24.31   \n",
      "156   NGC 7492 -177.5    0.6 -176.2    1.2      1.0  0.72  0.86  1.15  20.68   \n",
      "\n",
      "     rho_0  lg_tc  lg_th  \n",
      "0     4.88   7.84   9.55  \n",
      "1     1.78   8.99   9.32  \n",
      "2     4.74   7.76   8.93  \n",
      "3      NaN    NaN   7.93  \n",
      "4     2.99   8.59   9.12  \n",
      "..     ...    ...    ...  \n",
      "152   4.00   8.48   9.40  \n",
      "153   5.01   6.37   8.88  \n",
      "154   3.64   5.22   9.28  \n",
      "155   0.16   8.36   8.35  \n",
      "156   1.27   9.60   9.44  \n",
      "\n",
      "[157 rows x 13 columns]\n"
     ]
    }
   ],
   "source": [
    "Harris_iii = pd.read_csv('Data_FOlder/HarrisPartIII.csv')\n",
    "print(Harris_iii)"
   ]
  },
  {
   "cell_type": "code",
   "execution_count": 35,
   "id": "98a57df9",
   "metadata": {},
   "outputs": [],
   "source": [
    "Krause21 = pd.read_csv('Data_Folder/Krause21.csv', usecols=['Age', 'FeH']) #usecols specifies specific columns\n",
    "\n",
    "#setting x and y data for FeH/Age plots\n",
    "Krause21x = pd.read_csv('Data_folder/Krause21.csv', usecols=['FeH'])\n",
    "Krause21y = pd.read_csv('Data_Folder/Krause21.csv', usecols=['Age'])\n"
   ]
  },
  {
   "cell_type": "code",
   "execution_count": 33,
   "id": "06cb4c64",
   "metadata": {},
   "outputs": [],
   "source": [
    "VandenBerg = pd.read_csv('Data_Folder/vandenBerg_table2.csv', usecols=['Age', 'FeH']) #usecols specifies specific columns\n",
    "\n",
    "#setting x and y data for FeH/Age plots\n",
    "VandenBergx = pd.read_csv('Data_Folder/vandenBerg_table2.csv', usecols=['FeH'])\n",
    "VandenBergy = pd.read_csv('Data_Folder/vandenBerg_table2.csv', usecols=['Age'])"
   ]
  },
  {
   "cell_type": "code",
   "execution_count": null,
   "id": "c5b62cd8",
   "metadata": {},
   "outputs": [
    {
     "data": {
      "image/png": "[encoded data removed]",
      "text/plain": [
       "<Figure size 640x480 with 1 Axes>"
      ]
     },
     "metadata": {},
     "output_type": "display_data"
    }
   ],
   "source": [
    "#Gives singular plots\n",
    "#vandenBerg.plot.scatter(x=\"FeH\", y=\"Age\")\n",
    "#Krause.plot.scatter(x=\"FeH\", y=\"Age\")\n",
    "\n",
    "#Plotting data (Age/FeH) for comparison with (Belokurov, Kravtsov, 2024) - [\"In-situ vs. Accretted...\" (Figure 3)]\n",
    "plt.scatter(Krause21x, Krause21y, color='red', label='Krause Data', s=20)\n",
    "plt.scatter(VandenBergx, VandenBergy, color='blue', label='vandenBerg Data', s=20)\n",
    "\n",
    "plt.legend()\n",
    "plt.xlabel('Fe/H')\n",
    "plt.ylabel('Age')\n",
    "plt.title('Age Vs. Fe/H of Krause and vandenBerg Data')\n",
    "\n",
    "plt.show()"
   ]
  }
 ],
 "metadata": {
  "kernelspec": {
   "display_name": "Python 3",
   "language": "python",
   "name": "python3"
  },
  "language_info": {
   "codemirror_mode": {
    "name": "ipython",
    "version": 3
   },
   "file_extension": ".py",
   "mimetype": "text/x-python",
   "name": "python",
   "nbconvert_exporter": "python",
   "pygments_lexer": "ipython3",
   "version": "3.11.9"
  }
 },
 "nbformat": 4,
 "nbformat_minor": 5
}
