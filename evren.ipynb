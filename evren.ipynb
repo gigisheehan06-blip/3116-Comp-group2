{
 "cells": [
  {
   "cell_type": "markdown",
   "id": "3f7f6e8c",
   "metadata": {},
   "source": [
    "Goals:\n",
    "- What makes a globular cluster accreted?\n",
    "- What do globular clusters tell us about the formation of the Milky Way?\n",
    "- How do we know if they are formed within the Milky Way?\n",
    "- What other possible formation scenarios could their be and how do we identify them?"
   ]
  }
 ],
 "metadata": {
  "language_info": {
   "name": "python"
  }
 },
 "nbformat": 4,
 "nbformat_minor": 5
}
