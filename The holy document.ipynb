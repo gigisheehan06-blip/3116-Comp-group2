{
 "cells": [
  {
   "cell_type": "code",
   "execution_count": 1,
   "id": "433bf350",
   "metadata": {},
   "outputs": [],
   "source": [
    "import numpy as np\n",
    "import pandas as pd\n",
    "import scipy as sp\n",
    "import matplotlib.pyplot as plt"
   ]
  },
  {
   "cell_type": "code",
   "execution_count": 2,
   "id": "2fcbd67c",
   "metadata": {},
   "outputs": [],
   "source": [
    "Harris_i = pd.read_csv('HarrisPartI.csv', delimiter = ',')\n",
    "Harris_iii = pd.read_csv('HarrisPartIII.csv', delimiter = ',')\n",
    "VandenBerg = pd.read_csv('vandenBerg_table2.csv', delimiter = ',')\n",
    "Krause21 = pd.read_csv('Krause21.csv', delimiter = ',')"
   ]
  }
 ],
 "metadata": {
  "kernelspec": {
   "display_name": ".venv",
   "language": "python",
   "name": "python3"
  },
  "language_info": {
   "codemirror_mode": {
    "name": "ipython",
    "version": 3
   },
   "file_extension": ".py",
   "mimetype": "text/x-python",
   "name": "python",
   "nbconvert_exporter": "python",
   "pygments_lexer": "ipython3",
   "version": "3.11.1"
  }
 },
 "nbformat": 4,
 "nbformat_minor": 5
}
