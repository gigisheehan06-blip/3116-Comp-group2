{
 "cells": [
  {
   "metadata": {},
   "cell_type": "markdown",
   "source": "# PHYS3116 Tutorial 2: Pandas and Markdown",
   "id": "7dcecabd7ced730b"
  },
  {
   "metadata": {},
   "cell_type": "code",
   "source": [
    "import matplotlib.pyplot as plt\n",
    "import numpy as np\n",
    "import pandas as pd"
   ],
   "id": "709eebc55b898d0b",
   "outputs": [],
   "execution_count": null
  },
  {
   "metadata": {},
   "cell_type": "markdown",
   "source": [
    "## Introduction to Markdown\n",
    "Markdown is used to annotate your code and provide more information.\n",
    "There aren't strictly required but are helpful for documenting your progress.\n",
    "\n",
    "Here are some useful markdown \n",
    "\n",
    "```\n",
    "# Heading 1\n",
    "## Heading 2\n",
    "\n",
    "**bold**\n",
    "*italicized*\n",
    "\n",
    "List\n",
    "- Ele 1 \n",
    "- Ele 2\n",
    "    - Ele 2.1\n",
    "- Ele 1\n",
    "\n",
    "Links  \n",
    "[Name of Link](Link)\n",
    "\n",
    "Styling for Code  \n",
    "`variable/code`\n",
    "```\n",
    "\n",
    "P.S. Notice that we need two spaces to create a new line  \n",
    "The code above will generate the following below:\n",
    "\n",
    "# Heading 1\n",
    "## Heading 2\n",
    "\n",
    "**bold**\n",
    "*italicized*\n",
    "\n",
    "List\n",
    "- Ele 1 \n",
    "- Ele 2\n",
    "    - Ele 2.1\n",
    "- Ele 1\n",
    "\n",
    "Links  \n",
    "[Name of Link](Link)\n",
    "\n",
    "Styling for Code  \n",
    "\n",
    "`variable/code`\n",
    "\n",
    "\n",
    "This guide has more information on markdown syntax [markdown guide](https://www.markdownguide.org/basic-syntax/)"
   ],
   "id": "c589291b6e6a298c"
  },
  {
   "metadata": {},
   "cell_type": "markdown",
   "source": [
    "## Matplotlib: Advanced\n",
    "\n",
    "Some fancier plots.\n",
    "Completely optional but doesnt help make certain relationship clearer."
   ],
   "id": "7878c4fddbc14c23"
  },
  {
   "metadata": {},
   "cell_type": "code",
   "source": [
    "# Generating some random data\n",
    "x = np.arange(0, 100, 1)\n",
    "xerr = 2.5 * np.random.rand(100)\n",
    "y = x + 50 * np.random.rand(100)\n",
    "yerr = 2.5 * np.random.rand(100)\n",
    "z = np.random.rand(100) * 100 \n",
    "df = pd.DataFrame({\n",
    "    'x': x,\n",
    "    'xerr': xerr,\n",
    "    'y': y,\n",
    "    'yerr': yerr,\n",
    "    'z': z\n",
    "})"
   ],
   "id": "74595dbd049145cd",
   "outputs": [],
   "execution_count": null
  },
  {
   "metadata": {},
   "cell_type": "markdown",
   "source": "Plotting with uncertainity",
   "id": "2e10859d8e508300"
  },
  {
   "metadata": {},
   "cell_type": "code",
   "source": [
    "plt.errorbar(\n",
    "    df['x'],\n",
    "    df['y'],\n",
    "    yerr=df['yerr'],\n",
    "    xerr=df['xerr'],\n",
    "    fmt='.'\n",
    ")"
   ],
   "id": "708da017fbcebfd8",
   "outputs": [],
   "execution_count": null
  },
  {
   "metadata": {},
   "cell_type": "markdown",
   "source": "3D Plots with Color Bars",
   "id": "48758d82c688e752"
  },
  {
   "metadata": {},
   "cell_type": "code",
   "source": [
    "plt.scatter(\n",
    "    df['x'],\n",
    "    df['y'],\n",
    "    c=df['z']\n",
    ")\n",
    "plt.xlabel('x')\n",
    "plt.ylabel('y')\n",
    "cbar = plt.colorbar()\n",
    "cbar.set_label('z')"
   ],
   "id": "d919b19ae2c53e24",
   "outputs": [],
   "execution_count": null
  },
  {
   "metadata": {},
   "cell_type": "markdown",
   "source": [
    "## Pandas\n",
    "pandas is an open source, BSD-licensed library providing high-performance, easy-to-use data structures and data analysis tools for the Python programming language"
   ],
   "id": "c0f1169ecc18fe0d"
  },
  {
   "metadata": {},
   "cell_type": "markdown",
   "source": "Lets recreate the graph we just saw in the tutorial slides!",
   "id": "28aafdd9f5bce736"
  },
  {
   "metadata": {},
   "cell_type": "markdown",
   "source": [
    "We can import the data using `pd.read_csv`.\n",
    "```python\n",
    "df = pd.read_csv('file.csv')\n",
    "```"
   ],
   "id": "86f61765d37875ba"
  },
  {
   "metadata": {},
   "cell_type": "code",
   "source": [
    "# Read in Harris Part 2 and 3\n",
    "harris_p2 = pd.read_csv('HarrisPartII.csv')\n",
    "harris_p3 = pd.read_csv('HarrisPartIII.csv')"
   ],
   "id": "a7621f9ee389966d",
   "outputs": [],
   "execution_count": null
  },
  {
   "metadata": {},
   "cell_type": "markdown",
   "source": [
    "To quickly get some info on the dataset, we can use: `head` method, which retrieve the first 5 columns of the dataframe\n",
    "```python\n",
    "df.head()\n",
    "```"
   ],
   "id": "867f2864c98fdf5d"
  },
  {
   "metadata": {},
   "cell_type": "code",
   "source": "# Let us quickly have a look at what our data looks like",
   "id": "52f7b9b141733a6c",
   "outputs": [],
   "execution_count": null
  },
  {
   "metadata": {},
   "cell_type": "markdown",
   "source": [
    "We can access a specific column using `[]`\n",
    "```python\n",
    "df['column_name']\n",
    "```"
   ],
   "id": "23ebe2a49fc537a3"
  },
  {
   "metadata": {},
   "cell_type": "code",
   "source": "# Lets checkout the visual magnitude of harris_p2",
   "id": "91c983e5765b72ce",
   "outputs": [],
   "execution_count": null
  },
  {
   "metadata": {},
   "cell_type": "code",
   "source": [
    "# Lets recreate the graph\n",
    "# Convert the column to a number and make any errors NaN (Not A Number)\n",
    "harris_p2['M_V,t'] = pd.to_numeric(harris_p2['M_V,t'], errors='coerce')\n",
    "\n",
    "# Plot the data\n",
    "plt.plot(\n",
    "    harris_p2['M_V,t'],\n",
    "    harris_p3['sig_v'],\n",
    "    'x',\n",
    "    label='globular clusters'\n",
    ")\n",
    "\n",
    "# Label the data \n",
    "plt.title(r'$\\sigma$ vs $M_v$')\n",
    "plt.xlabel('$M_v$ (mags)')\n",
    "plt.ylabel('$\\sigma$ (km/s)')\n",
    "plt.legend()"
   ],
   "id": "187360d580fd8012",
   "outputs": [],
   "execution_count": null
  },
  {
   "metadata": {},
   "cell_type": "markdown",
   "source": "# Exercises",
   "id": "8b0790144d8e8a3d"
  },
  {
   "metadata": {},
   "cell_type": "markdown",
   "source": "## 1) Write some markdown ",
   "id": "4fa07e50ebfce3aa"
  },
  {
   "metadata": {},
   "cell_type": "markdown",
   "source": "Write some markdown here",
   "id": "6c4e23feb3e46f59"
  },
  {
   "metadata": {},
   "cell_type": "markdown",
   "source": [
    "## 2) CATALOG OF PARAMETERS FOR MILKY WAY GLOBULAR CLUSTERS\n",
    "### a) Import Harris 1 Data set and convert the metallicity column to numerical data\n",
    "### b) Plot X vs Z for globular clusters for clusters with metallicity greater than 0.8 and less than 0.8. (Hint: Harris 1 has X, Y, Z coordinates while Harris 2 has metallicity)\n",
    "### c) Count how many clusters have a metallicity greater than 0.8.\n",
    "\n",
    "A description of the data can be found in [Catalogue of Parameters for Milky Way Clusters by Harris](https://physics.mcmaster.ca/~harris/mwgc.dat) and [The Ages of 55 Globular Clusters as Determined Using an Improved \\Delta V^HB_TO Method along with Color-Magnitude Diagram Constraints, and Their Implications for Broader Issues](https://ui.adsabs.harvard.edu/abs/2013ApJ...775..134V/abstract)  \n",
    "Velocity Dispersion:https://astronomy.swin.edu.au/cosmos/v/Velocity+Dispersion  \n",
    "Absolute Magnitude:https://astronomy.swin.edu.au/cosmos/A/Absolute+Magnitude  \n",
    "Half Light Radius:https://astronomy.swin.edu.au/cosmos/H/Half-light+Radius"
   ],
   "id": "ee9915b4d483fce0"
  },
  {
   "metadata": {},
   "cell_type": "code",
   "source": "# 2) a)",
   "id": "c640cf87e7ecd863",
   "outputs": [],
   "execution_count": null
  },
  {
   "metadata": {},
   "cell_type": "code",
   "source": "# 2) b)",
   "id": "765b4264d1550e0e",
   "outputs": [],
   "execution_count": null
  },
  {
   "metadata": {},
   "cell_type": "code",
   "source": "# 2) c)",
   "id": "79e6fce47abe760a",
   "outputs": [],
   "execution_count": null
  },
  {
   "metadata": {},
   "cell_type": "markdown",
   "source": [
    "## 3) The Ages of 55 Globular Clusters as Determined Using an Improved \\Delta V^HB_TO Method along with Color-Magnitude Diagram Constraints, and Their Implications for Broader Issues\n",
    "### a) Merge Harris 1 and vanderBurg together to one dataframe and save it\n",
    "### b) How many globular clusters are common between the two surveys?\n",
    "\n"
   ],
   "id": "f30bf24ced2cb966"
  },
  {
   "metadata": {},
   "cell_type": "markdown",
   "source": [
    "Hint for these exercises, you will need a bit more help.\n",
    "\n",
    "Hint 1: vandenBurg stores the NGC id (New General Catalogue) (i.e. 111 means NGC 111)  \n",
    "Hint 2:\n",
    "Let's consider the two dataframes.\n",
    "They share data regarding the same star, but have slightly different naming conventions that makes it hard to consolidate.\n",
    "\n",
    "Dataframe 1:\n",
    "| id          | height      |\n",
    "| ----------- | ----------- |\n",
    "| 1           | 1           |\n",
    "| 2           | 2           |\n",
    "| 3           | 3           |\n",
    "\n",
    "Dataframe 2:\n",
    "\n",
    "| star_id | height |\n",
    "|---------|--------|\n",
    "| Star 1  | 1      |\n",
    "| Star 2  | 2      |\n",
    "| Star 4  | 4      |"
   ],
   "id": "649047bb9962236a"
  },
  {
   "metadata": {},
   "cell_type": "code",
   "source": [
    "df1 = pd.DataFrame({\n",
    "    'id': ['1', '2', '3'],\n",
    "    'height': ['1', '2', '3']\n",
    "})\n",
    "df2 = pd.DataFrame({\n",
    "    'star_id': ['Star 1', 'Star 2', 'Star 4'],\n",
    "    'width': ['1', '2', '4']\n",
    "})"
   ],
   "id": "dbe985b8a0a82781",
   "outputs": [],
   "execution_count": null
  },
  {
   "metadata": {},
   "cell_type": "markdown",
   "source": [
    "To merge these two dataframes we need to complete a few operations:\n",
    "1. Rename the column to be the same name to allow for the join\n",
    "2. Update `id` column to mean the same format `Star X`\n",
    "3. Save the dataframe"
   ],
   "id": "c6f15508cf312c2e"
  },
  {
   "metadata": {},
   "cell_type": "markdown",
   "source": [
    "To rename columns, we can use \n",
    "`df.rename(columns={'old_column_name': 'new_column_name'}, inplace=True)`"
   ],
   "id": "2bd72c9a8fa77c65"
  },
  {
   "metadata": {},
   "cell_type": "code",
   "source": [
    "# renaming the columns in df1 to be 'star_id`\n",
    "df1.rename(columns={'id': 'star_id'}, inplace=True)\n",
    "df1"
   ],
   "id": "6c8309f97db89a77",
   "outputs": [],
   "execution_count": null
  },
  {
   "metadata": {},
   "cell_type": "markdown",
   "source": "Apply an operation using `apply` method `df['column'] = df['column'].apply(func))`",
   "id": "9abdc1d328e957a4"
  },
  {
   "metadata": {
    "jupyter": {
     "is_executing": true
    }
   },
   "cell_type": "code",
   "source": [
    "# Add Star to the start of the id column for dataframe 1 to match dataframe 2\n",
    "def add_star(s):\n",
    "    return \"Star \" + s\n",
    "df1['star_id'] = df1['star_id'].apply(add_star)\n",
    "df1"
   ],
   "id": "acd91fae306d4a2d",
   "outputs": [],
   "execution_count": null
  },
  {
   "metadata": {},
   "cell_type": "markdown",
   "source": [
    "Merge dataframes on common column using `pd.merge`\n",
    "Example: `df = pd.merge(df1, df2, on='star_id')`"
   ],
   "id": "ba1502351a8b7ab2"
  },
  {
   "metadata": {},
   "cell_type": "code",
   "source": [
    "# Merge the two dataframes on 'star_id'\n",
    "df = pd.merge(df1, df2, on='star_id')\n",
    "df"
   ],
   "id": "4cc1bce7b64a8fbd",
   "outputs": [],
   "execution_count": null
  },
  {
   "metadata": {},
   "cell_type": "markdown",
   "source": "Save to csv file for later using `df.to_csv('file_name.csv, index=False)`",
   "id": "478813ca53a501ac"
  },
  {
   "metadata": {},
   "cell_type": "code",
   "source": [
    "# Save id\n",
    "df.to_csv('dataframe.csv', index=False)"
   ],
   "id": "d8f0c4fb049ad300",
   "outputs": [],
   "execution_count": null
  },
  {
   "metadata": {},
   "cell_type": "code",
   "source": "# 3) a)",
   "id": "a540728152c1c937",
   "outputs": [],
   "execution_count": null
  },
  {
   "metadata": {},
   "cell_type": "code",
   "source": "# 3) b)",
   "id": "64f0fb7a4a3f4b96",
   "outputs": [],
   "execution_count": null
  }
 ],
 "metadata": {
  "kernelspec": {
   "display_name": "Python 3",
   "language": "python",
   "name": "python3"
  },
  "language_info": {
   "codemirror_mode": {
    "name": "ipython",
    "version": 2
   },
   "file_extension": ".py",
   "mimetype": "text/x-python",
   "name": "python",
   "nbconvert_exporter": "python",
   "pygments_lexer": "ipython2",
   "version": "2.7.6"
  }
 },
 "nbformat": 4,
 "nbformat_minor": 5
}
