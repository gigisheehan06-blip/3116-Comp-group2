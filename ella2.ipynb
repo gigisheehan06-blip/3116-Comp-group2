{
 "cells": [
  {
   "cell_type": "code",
   "execution_count": 1,
   "id": "c5960963",
   "metadata": {},
   "outputs": [],
   "source": [
    "import numpy as np\n",
    "import pandas as pd\n",
    "import scipy as sp\n",
    "import matplotlib.pyplot as plt\n",
    "import csv\n",
    "import os\n"
   ]
  },
  {
   "cell_type": "code",
   "execution_count": 2,
   "id": "0638d375",
   "metadata": {},
   "outputs": [
    {
     "data": {
      "text/plain": [
       "'/'"
      ]
     },
     "execution_count": 2,
     "metadata": {},
     "output_type": "execute_result"
    }
   ],
   "source": [
    "# Checking what directory I'm in\n",
    "import os\n",
    "os.getcwd()"
   ]
  },
  {
   "cell_type": "markdown",
   "id": "c621adf6",
   "metadata": {},
   "source": [
    "An accreted globular cluster is a globular cluster that did not originally form in the milky way but was instead captured by MW from a dwarf galaxy during a merger event. Some characteristics of accreted globular clusters include:\n",
    "- Larger distances from the galactic centre\n",
    "- high vertical distances above the disk (large Z values)\n",
    "\n",
    "\n",
    "Plan:\n",
    "Use X, Y, Z coordinates to make 3D scatterplots of globular clusters.\n",
    "Identify any GCs which ie in the halo (ones which have large Z magnitudes ie are far from the disk)"
   ]
  },
  {
   "cell_type": "code",
   "execution_count": null,
   "id": "658aa0a2",
   "metadata": {},
   "outputs": [],
   "source": [
    "# The aim of this block of code is to create a 3D scatterplot of the Harris Part 1 data.\n",
    "# This can then be used to identify GC near the outer halo which are likely globular clusters\n",
    "\n",
    "# This code takes Part 1 of the Harris data and seperates the X, Y, and Z coordinates into seperate lists\n",
    "HarrisIX = pd.read_csv('Data_folder/HarrisPartI.csv', usecols=['X'])\n",
    "HarrisIY = pd.read_csv('Data_folder/HarrisPartI.csv', usecols=['Y'])\n",
    "HarrisIZ = pd.read_csv('Data_folder/HarrisPartI.csv', usecols=['Z'])\n",
    "\n",
    "# These next lines of code create a 3D scatterplot of the X, Y, and Z coordinates:\n",
    "# The figsize parameters have been chosen by scanning the HarrisPartI.csv file and checking\n",
    "# a rough range of the largest values\n",
    "fig = plt.figure(figsize=(10,10))\n",
    "ax = fig.add_subplot(projection='3d')\n",
    "\n",
    "# These two lines make a visual graph of the scatterplot\n",
    "scatterplot = ax.scatter(HarrisIX, HarrisIY, HarrisIZ)\n",
    "\n",
    "# In order to pick out the suspected accreted globular clusters,\n",
    "# We can add a cursor to the 3D scatterplot:\n",
    "cursor = mplcursors.cursor(scatterplot, hover=True)\n",
    "\n",
    "# This line prints the graph under this cell block\n",
    "plt.show()\n"
   ]
  },
  {
   "cell_type": "markdown",
   "id": "9da8f9d6",
   "metadata": {},
   "source": [
    "Still to complete on the scatterplot above:\n",
    "- identifying the 5 outermost globular clulsters\n",
    "- using other data in the csv to confirm the hypothesis that these are in fact accreted globular clusters. "
   ]
  },
  {
   "cell_type": "code",
   "execution_count": null,
   "id": "a5939edd",
   "metadata": {},
   "outputs": [],
   "source": [
    "# This block of code plots the Harris Part I in the X, Y axis\n",
    "# The scatterplots include a cursor meaning we can pick out the accreted globular clusters off the scatterplot\n",
    "\n",
    "# This opens the graph in a new window and allows the interactive cursor\n",
    "%matplotlib tk\n",
    "\n",
    "# First we need to import the cursor feature from the matplotlib package:\n",
    "from matplotlib.widgets import Cursor\n",
    "import matplotlib.pyplot as plt\n",
    "\n",
    "\n",
    "# Then, we need to define the figure and axis or else the cursor function does not work:\n",
    "fig, ax = plt.subplots()\n",
    "\n",
    "# Now we can plot Harris I in X, Y and add the cursor\n",
    "ax.scatter(HarrisIX, HarrisIY)\n",
    "ax.set_title('Harris Part I in X, Y plane')\n",
    "cursor = Cursor(ax, useblit=True, color='red', linewidth=1)\n",
    "plt.show()\n",
    "plt.ion"
   ]
  },
  {
   "cell_type": "code",
   "execution_count": null,
   "id": "d75c9e93",
   "metadata": {},
   "outputs": [],
   "source": [
    "# Harris Part I in the X, Z axis\n",
    "\n",
    "# This opens the graph in a new window and allows the interactive cursor\n",
    "%matplotlib tk\n",
    "\n",
    "# First we import the cursor feature from the matplotlib package:\n",
    "from matplotlib.widgets import Cursor\n",
    "import matplotlib.pyplot as plt\n",
    "\n",
    "# Then, we  define the figure and axis\n",
    "fig, ax = plt.subplots()\n",
    "\n",
    "# Next we can plot Harris I in X, Z\n",
    "ax.scatter(HarrisIX, HarrisIZ)\n",
    "ax.set_title('Harris Part I in X, Z plane')\n",
    "cursor = Cursor(ax, useblit=True, color='red', linewidth=1)\n",
    "plt.show()\n",
    "plt.ion"
   ]
  },
  {
   "cell_type": "code",
   "execution_count": null,
   "id": "34d068b8",
   "metadata": {},
   "outputs": [],
   "source": [
    "# Harris Part I in the Y, Z axis\n",
    "\n",
    "# This opens the graph in a new window and allows the interactive cursor\n",
    "%matplotlib tk\n",
    "\n",
    "# First we import the cursor feature from the matplotlib package:\n",
    "from matplotlib.widgets import Cursor\n",
    "import matplotlib.pyplot as plt\n",
    "\n",
    "# Then, we  define the figure and axis\n",
    "fig, ax = plt.subplots()\n",
    "\n",
    "# Next we can plot Harris I in X, Z\n",
    "ax.scatter(HarrisIY, HarrisIZ)\n",
    "ax.set_title('Harris Part I in Y, Z plane')\n",
    "cursor = Cursor(ax, useblit=True, color='red', linewidth=1)\n",
    "plt.show()\n",
    "plt.ion"
   ]
  },
  {
   "cell_type": "code",
   "execution_count": null,
   "id": "2f8831f9",
   "metadata": {},
   "outputs": [],
   "source": [
    "# The following code will be used as a filter\n",
    "# Using the scatterplots graphed above, we can pick out potential accreted globular clusters (of which there should be about 5 based on the 3D scatterplot)\n",
    "# essentially the 2D scatterplots above help us choose boundaries where we can see the galactic halo. In the halo, we will find the accreted GCs\n",
    "\n",
    "# First, we should set the limits on X, Y, Z for accreted GCs\n",
    "x_min = 35\n",
    "x_max = -13\n",
    "y_min = 18\n",
    "y_max = -35\n",
    "z_min = 11\n",
    "z_max = -50\n",
    "\n",
    "# Now we set up the arrays we are going to use below\n",
    "x_values = HarrisIX.values #the '.values' Converts HarrisIX to a numpy array from a pandas data frame - which makes the filter below work\n",
    "y_values = HarrisIY.values\n",
    "z_values = HarrisIZ.values\n",
    "cluster_names = pd.read_csv('Data_folder/HarrisPartI.csv', usecols=['ID']).to_numpy() #the '.to_numpy()' defines cluster_names as a list of strings\n",
    "\n",
    "\n",
    "# Need a way of saving the names of the accreted globular clusters to a list\n",
    "accreted_gcs = []\n",
    "\n",
    "# Now, we can filter the data based on these boundaries\n",
    "# Let's go through HarrisIX first:\n",
    "i = 0\n",
    "while i < len(x_values):\n",
    "    if x_values[i] <= x_max or x_values[i] >= x_min:\n",
    "        accreted_gcs.append(cluster_names[i])\n",
    "    i = i + 1\n",
    "# This is fine for the X values because we are starting with an empty array\n",
    "# Going forward, we will need to check that the gc added to the list of accreted gcs is not already entered\n",
    "# The next cell writes a function for this.\n"
   ]
  },
  {
   "cell_type": "code",
   "execution_count": null,
   "id": "cc649eb9",
   "metadata": {},
   "outputs": [],
   "source": [
    "def duplicate_detecor(some_list, some_name):\n",
    "    k = 0\n",
    "    duplicates = 0\n",
    "    while k < len(some_list):\n",
    "        if some_name == some_list[k]:\n",
    "            duplicates = duplicates + 1\n",
    "            k = k + 1\n",
    "        else:\n",
    "            k = k + 1\n",
    "    return (duplicates)\n"
   ]
  },
  {
   "cell_type": "code",
   "execution_count": null,
   "id": "b2d49426",
   "metadata": {},
   "outputs": [],
   "source": [
    "# Now we can pick out any additional globular clusters for the y values, using the detect duplicates function\n",
    "# Let's go through HarrisIY next:\n",
    "i = 0\n",
    "while i < len(y_values):\n",
    "    if y_values[i] <= y_max or y_values[i] >= y_min:\n",
    "        if duplicate_detecor(accreted_gcs, cluster_names[i]) == 0:\n",
    "            accreted_gcs.append(cluster_names[i])\n",
    "    i = i + 1\n",
    "\n",
    "# Finally, we can also do this for the globular clusters with z values very distant from the centre:\n",
    "i = 0\n",
    "while i < len(z_values):\n",
    "    if z_values[i] <= z_max or z_values[i] >= z_min:\n",
    "        if duplicate_detecor(accreted_gcs, cluster_names[i]) == 0:\n",
    "            accreted_gcs.append(cluster_names[i])\n",
    "    i = i + 1\n",
    "    \n",
    "# Lastly, we can print off the list of accreted galaxy clusters in a nicer format. \n",
    "i = 0\n",
    "for i in range(len(accreted_gcs)):\n",
    "    print(accreted_gcs[i][0])"
   ]
  }
 ],
 "metadata": {
  "kernelspec": {
   "display_name": "base",
   "language": "python",
   "name": "python3"
  },
  "language_info": {
   "codemirror_mode": {
    "name": "ipython",
    "version": 3
   },
   "file_extension": ".py",
   "mimetype": "text/x-python",
   "name": "python",
   "nbconvert_exporter": "python",
   "pygments_lexer": "ipython3",
   "version": "3.13.5"
  }
 },
 "nbformat": 4,
 "nbformat_minor": 5
}
