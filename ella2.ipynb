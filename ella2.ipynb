{
 "cells": [
  {
   "cell_type": "code",
   "execution_count": null,
   "id": "c5960963",
   "metadata": {},
   "outputs": [],
   "source": [
    "import numpy as np\n",
    "import pandas as pd\n",
    "import scipy as sp\n",
    "import matplotlib.pyplot as plt\n",
    "import csv\n",
    "import os\n"
   ]
  },
  {
   "cell_type": "code",
   "execution_count": null,
   "id": "0638d375",
   "metadata": {},
   "outputs": [],
   "source": [
    "# Checking what directory I'm in\n",
    "import os\n",
    "os.getcwd()"
   ]
  },
  {
   "cell_type": "markdown",
   "id": "c621adf6",
   "metadata": {},
   "source": [
    "An accreted globular cluster is a globular cluster that did not originally form in the milky way but was instead captured by MW from a dwarf galaxy during a merger event. Some characteristics of accreted globular clusters include:\n",
    "- Larger distances from the galactic centre\n",
    "- high vertical distances above the disk (large Z values)\n",
    "\n",
    "\n",
    "Plan:\n",
    "Use X, Y, Z coordinates to make 3D scatterplots of globular clusters.\n",
    "Identify any GCs which ie in the halo (ones which have large Z magnitudes ie are far from the disk)"
   ]
  },
  {
   "cell_type": "code",
   "execution_count": null,
   "id": "658aa0a2",
   "metadata": {},
   "outputs": [],
   "source": [
    "# The aim of this block of code is to create a 3D scatterplot of the Harris Part 1 data.\n",
    "# This can then be used to identify GC near the outer halo which are likely globular clusters\n",
    "\n",
    "# This code takes Part 1 of the Harris data and seperates the X, Y, and Z coordinates into seperate lists\n",
    "HarrisIX = pd.read_csv('Data_folder/HarrisPartI.csv', usecols=['X'])\n",
    "HarrisIY = pd.read_csv('Data_folder/HarrisPartI.csv', usecols=['Y'])\n",
    "HarrisIZ = pd.read_csv('Data_folder/HarrisPartI.csv', usecols=['Z'])\n",
    "\n",
    "# These next lines of code create a 3D scatterplot of the X, Y, and Z coordinates:\n",
    "# The figsize parameters have been chosen by scanning the HarrisPartI.csv file and checking\n",
    "# a rough range of the largest values\n",
    "fig = plt.figure(figsize=(10,10))\n",
    "ax = fig.add_subplot(projection='3d')\n",
    "\n",
    "# These two lines make a visual graph of the scatterplot\n",
    "ax.scatter(HarrisIX, HarrisIY, HarrisIZ)\n",
    "plt.show()\n",
    "\n"
   ]
  },
  {
   "cell_type": "markdown",
   "id": "9da8f9d6",
   "metadata": {},
   "source": [
    "Still to complete on the scatterplot above:\n",
    "- identifying the 5 outermost globular clulsters\n",
    "- using other data in the csv to confirm the hypothesis that these are in fact accreted globular clusters. "
   ]
  },
  {
   "cell_type": "code",
   "execution_count": null,
   "id": "5a4e7eac",
   "metadata": {},
   "outputs": [],
   "source": [
    "# In order to pick out the suspected accreted globular clusters,\n",
    "# We can add a cursor to the 3D scatterplot:\n",
    "\n",
    "from matplotlib.widgets import Cursor\n",
    "cursor = Cursor(ax, useblit='TRUE', linewidth=2)\n",
    "plt.show()"
   ]
  }
 ],
 "metadata": {
  "language_info": {
   "name": "python"
  }
 },
 "nbformat": 4,
 "nbformat_minor": 5
}
