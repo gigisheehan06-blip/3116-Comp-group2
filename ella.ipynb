{
 "cells": [
  {
   "cell_type": "code",
   "execution_count": 1,
   "id": "189bdfba",
   "metadata": {},
   "outputs": [],
   "source": [
    "import numpy as np\n",
    "import pandas as pd\n",
    "import scipy as sp\n",
    "import matplotlib.pyplot as plt\n",
    "import csv\n",
    "import os\n"
   ]
  },
  {
   "cell_type": "code",
   "execution_count": 2,
   "id": "459f9bdc",
   "metadata": {},
   "outputs": [
    {
     "data": {
      "text/plain": [
       "'/'"
      ]
     },
     "execution_count": 2,
     "metadata": {},
     "output_type": "execute_result"
    }
   ],
   "source": [
    "# Checking what directory I'm in\n",
    "import os\n",
    "os.getcwd()\n"
   ]
  },
  {
   "cell_type": "markdown",
   "id": "7caf5c55",
   "metadata": {},
   "source": [
    "An accreted globular cluster is a globular cluster that did not originally form in the milky way but was instead captured by MW from a dwarf galaxy during a merger event. Some characteristics of accreted globular clusters include:\n",
    "- Larger distances from the galactic centre\n",
    "- high vertical distances above the disk (large Z values)\n",
    "\n",
    "\n",
    "Plan:\n",
    "Use X, Y, Z coordinates to make 3D scatterplots of globular clusters.\n",
    "Identify any GCs which ie in the halo (ones which have large Z magnitudes ie are far from the disk)"
   ]
  },
  {
   "cell_type": "code",
   "execution_count": null,
   "id": "5f01a1ad",
   "metadata": {},
   "outputs": [],
   "source": [
    "# The aim of this block of code is to create a 3D scatterplot of the Harris Part 1 data.\n",
    "# This can then be used to identify GC near the outer halo which are likely globular clusters\n",
    "\n",
    "# This code takes Part 1 of the Harris data and seperates the X, Y, and Z coordinates into seperate lists\n",
    "HarrisIX = pd.read_csv('Data_folder/HarrisPartI.csv', usecols=['X'])\n",
    "HarrisIY = pd.read_csv('Data_folder/HarrisPartI.csv', usecols=['Y'])\n",
    "HarrisIZ = pd.read_csv('Data_folder/HarrisPartI.csv', usecols=['Z'])\n",
    "\n",
    "# These next lines of code create a 3D scatterplot of the X, Y, and Z coordinates:\n",
    "# The figsize parameters have been chosen by scanning the HarrisPartI.csv file and checking\n",
    "# a rough range of the largest values\n",
    "fig = plt.figure(figsize=(10,10))\n",
    "ax = fig.add_subplot(projection='3d')\n",
    "\n",
    "# These two lines make a visual graph of the scatterplot\n",
    "ax.scatter(HarrisIX, HarrisIY, HarrisIZ)\n",
    "plt.show()\n"
   ]
  },
  {
   "cell_type": "markdown",
   "id": "30227f27",
   "metadata": {},
   "source": [
    "Still to complete on the scatterplot above:\n",
    "- identifying the 5 outermost globular clulsters\n",
    "- using other data in the csv to confirm the hypothesis that these are in fact accreted globular clusters. "
   ]
  }
 ],
 "metadata": {
  "kernelspec": {
   "display_name": "base",
   "language": "python",
   "name": "python3"
  },
  "language_info": {
   "codemirror_mode": {
    "name": "ipython",
    "version": 3
   },
   "file_extension": ".py",
   "mimetype": "text/x-python",
   "name": "python",
   "nbconvert_exporter": "python",
   "pygments_lexer": "ipython3",
   "version": "3.13.5"
  }
 },
 "nbformat": 4,
 "nbformat_minor": 5
}
